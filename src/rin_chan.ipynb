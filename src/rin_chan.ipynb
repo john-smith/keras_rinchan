{
 "cells": [
  {
   "cell_type": "code",
   "execution_count": 6,
   "metadata": {
    "collapsed": true
   },
   "outputs": [],
   "source": [
    "%matplotlib inline "
   ]
  },
  {
   "cell_type": "code",
   "execution_count": 7,
   "metadata": {
    "collapsed": false
   },
   "outputs": [],
   "source": [
    "from keras.models import Sequential\n",
    "from keras.layers import Dense, Activation, Dropout, LSTM, Embedding\n",
    "from keras.optimizers import RMSprop\n",
    "from keras.utils import np_utils\n",
    "from keras.preprocessing import sequence\n",
    "\n",
    "import csv\n",
    "\n",
    "import matplotlib.pyplot as plt"
   ]
  },
  {
   "cell_type": "code",
   "execution_count": 13,
   "metadata": {
    "collapsed": true
   },
   "outputs": [],
   "source": [
    "input_length = 300\n",
    "nb_epoch = 15\n",
    "input_dim = 256"
   ]
  },
  {
   "cell_type": "code",
   "execution_count": 14,
   "metadata": {
    "collapsed": false
   },
   "outputs": [],
   "source": [
    "rin_chan = {'hoshizora':0, 'shibuya':1, 'toosaka':2, 'matsuoka':3}\n",
    "x = []\n",
    "y = []\n",
    "for line in csv.reader(open('../data/data.tsv'), delimiter='\\t'):\n",
    "    x.append(list(line[1]))\n",
    "    y.append(rin_chan[line[0]])\n",
    "y = np_utils.to_categorical(y)\n",
    "\n",
    "word_dict = {}\n",
    "for i, xi in enumerate(x):\n",
    "    for j, xj in enumerate(xi):\n",
    "        word_dict[xj]= word_dict.get(xj, len(word_dict))\n",
    "        x[i][j] = word_dict[xj]\n",
    "\n",
    "x = sequence.pad_sequences(x, input_length)\n",
    "\n",
    "x_train = x[0:6000]\n",
    "y_train = y[0:6000]\n",
    "\n",
    "x_test = x[6000:]\n",
    "y_test = y[6000:]"
   ]
  },
  {
   "cell_type": "code",
   "execution_count": 15,
   "metadata": {
    "collapsed": false
   },
   "outputs": [],
   "source": [
    "model = Sequential()\n",
    "model.add(Embedding(len(word_dict), input_dim,  input_length=input_length, dropout=0.2))\n",
    "model.add(LSTM(input_dim, return_sequences=True, dropout_W=0.2, dropout_U=0.2, consume_less='cpu'))\n",
    "model.add(LSTM(input_dim, dropout_W=0.2, dropout_U=0.2, consume_less='cpu'))\n",
    "model.add(Dense(y.shape[1], activation='softmax'))\n",
    "\n",
    "model.compile(loss='categorical_crossentropy', optimizer=RMSprop(), metrics=['accuracy'])"
   ]
  },
  {
   "cell_type": "code",
   "execution_count": 16,
   "metadata": {
    "collapsed": false,
    "scrolled": false
   },
   "outputs": [
    {
     "name": "stdout",
     "output_type": "stream",
     "text": [
      "Train on 5400 samples, validate on 600 samples\n",
      "Epoch 1/15\n",
      "5400/5400 [==============================] - 750s - loss: 1.4102 - acc: 0.2674 - val_loss: 1.4084 - val_acc: 0.2417\n",
      "Epoch 2/15\n",
      "5400/5400 [==============================] - 737s - loss: 1.3970 - acc: 0.2835 - val_loss: 1.3536 - val_acc: 0.3533\n",
      "Epoch 3/15\n",
      "5400/5400 [==============================] - 676s - loss: 1.3176 - acc: 0.3596 - val_loss: 1.2267 - val_acc: 0.4250\n",
      "Epoch 4/15\n",
      "5400/5400 [==============================] - 677s - loss: 1.2348 - acc: 0.4231 - val_loss: 1.1733 - val_acc: 0.4483\n",
      "Epoch 5/15\n",
      "5400/5400 [==============================] - 673s - loss: 1.1253 - acc: 0.4822 - val_loss: 1.1469 - val_acc: 0.5067\n",
      "Epoch 6/15\n",
      "5400/5400 [==============================] - 675s - loss: 1.0558 - acc: 0.5328 - val_loss: 1.0466 - val_acc: 0.5533\n",
      "Epoch 7/15\n",
      "5400/5400 [==============================] - 725s - loss: 1.0028 - acc: 0.5672 - val_loss: 1.0370 - val_acc: 0.5417\n",
      "Epoch 8/15\n",
      "5400/5400 [==============================] - 697s - loss: 0.9771 - acc: 0.5669 - val_loss: 0.9881 - val_acc: 0.5950\n",
      "Epoch 9/15\n",
      "5400/5400 [==============================] - 682s - loss: 0.9470 - acc: 0.6048 - val_loss: 0.9745 - val_acc: 0.6150\n",
      "Epoch 10/15\n",
      "5400/5400 [==============================] - 645s - loss: 0.8652 - acc: 0.6444 - val_loss: 0.8965 - val_acc: 0.6483\n",
      "Epoch 11/15\n",
      "5400/5400 [==============================] - 656s - loss: 0.8289 - acc: 0.6557 - val_loss: 0.9328 - val_acc: 0.6217\n",
      "Epoch 12/15\n",
      "5400/5400 [==============================] - 735s - loss: 0.8109 - acc: 0.6717 - val_loss: 0.8896 - val_acc: 0.6500\n",
      "Epoch 13/15\n",
      "5400/5400 [==============================] - 730s - loss: 0.7794 - acc: 0.6928 - val_loss: 0.9410 - val_acc: 0.6200\n",
      "Epoch 14/15\n",
      "5400/5400 [==============================] - 651s - loss: 0.7981 - acc: 0.6878 - val_loss: 0.8765 - val_acc: 0.6583\n",
      "Epoch 15/15\n",
      "5400/5400 [==============================] - 696s - loss: 0.7270 - acc: 0.7135 - val_loss: 0.8729 - val_acc: 0.6683\n"
     ]
    }
   ],
   "source": [
    "history = model.fit(x_train, y_train, batch_size=200, nb_epoch=nb_epoch, validation_split=0.1, verbose=1)"
   ]
  },
  {
   "cell_type": "code",
   "execution_count": 17,
   "metadata": {
    "collapsed": false
   },
   "outputs": [
    {
     "data": {
      "image/png": "[encoded data removed]",
      "text/plain": [
       "<matplotlib.figure.Figure at 0x15f9cdb38>"
      ]
     },
     "metadata": {},
     "output_type": "display_data"
    }
   ],
   "source": [
    "loss = history.history['loss']\n",
    "val_loss = history.history['val_loss']\n",
    "\n",
    "plt.plot(range(nb_epoch), loss, marker='.', label='loss')\n",
    "plt.plot(range(nb_epoch), val_loss, marker='.', label='val_loss')\n",
    "plt.legend(loc='best', fontsize=10)\n",
    "plt.grid()\n",
    "plt.xlabel('epoch')\n",
    "plt.show()"
   ]
  },
  {
   "cell_type": "code",
   "execution_count": 18,
   "metadata": {
    "collapsed": false
   },
   "outputs": [
    {
     "data": {
      "image/png": "[encoded data removed]",
      "text/plain": [
       "<matplotlib.figure.Figure at 0x14222acc0>"
      ]
     },
     "metadata": {},
     "output_type": "display_data"
    }
   ],
   "source": [
    "acc = history.history['acc']\n",
    "val_acc = history.history['val_acc']\n",
    "\n",
    "plt.plot(range(nb_epoch), acc, marker='.', label='acc')\n",
    "plt.plot(range(nb_epoch), val_acc, marker='.', label='val_acc')\n",
    "plt.legend(loc='best', fontsize=10)\n",
    "plt.grid()\n",
    "plt.xlabel('epoch')\n",
    "plt.ylabel('acc')\n",
    "plt.show()"
   ]
  },
  {
   "cell_type": "code",
   "execution_count": 19,
   "metadata": {
    "collapsed": false
   },
   "outputs": [
    {
     "name": "stdout",
     "output_type": "stream",
     "text": [
      "1581/1581 [==============================] - 32s    \n"
     ]
    },
    {
     "data": {
      "text/plain": [
       "[0.8972507179499728, 0.65148640123822132]"
      ]
     },
     "execution_count": 19,
     "metadata": {},
     "output_type": "execute_result"
    }
   ],
   "source": [
    "model.evaluate(x_test, y_test)"
   ]
  }
 ],
 "metadata": {
  "kernelspec": {
   "display_name": "Python 3",
   "language": "python",
   "name": "python3"
  },
  "language_info": {
   "codemirror_mode": {
    "name": "ipython",
    "version": 3
   },
   "file_extension": ".py",
   "mimetype": "text/x-python",
   "name": "python",
   "nbconvert_exporter": "python",
   "pygments_lexer": "ipython3",
   "version": "3.5.1"
  }
 },
 "nbformat": 4,
 "nbformat_minor": 0
}

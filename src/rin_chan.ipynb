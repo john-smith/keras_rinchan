{
 "cells": [
  {
   "cell_type": "markdown",
   "metadata": {},
   "source": [
    "# お前誰？\n",
    "* じょんすみす\n",
    "* どこにでもいる普通のアル中"
   ]
  },
  {
   "cell_type": "markdown",
   "metadata": {},
   "source": [
    "# データ\n",
    "\n",
    "![凛ちゃんデータセット](http://image.slidesharecdn.com/rinchan-150412041658-conversion-gate01/95/-20-638.jpg)\n",
    "[凛ちゃんデータセット](http://www.slideshare.net/__john_smith__/rin-chan-46900896)\n",
    "\n",
    "* SVM\n",
    " * accuracy : 0.68\n",
    "* BoW+全結合\n",
    " * accuracy : 0.62"
   ]
  },
  {
   "cell_type": "markdown",
   "metadata": {},
   "source": [
    "# 過去\n",
    "\n",
    "![PCA](http://image.slidesharecdn.com/pronama-150514165035-lva1-app6891/95/5-22-638.jpg)\n",
    "![learning curve](http://image.slidesharecdn.com/pronama-150514165035-lva1-app6891/95/5-24-638.jpg)"
   ]
  },
  {
   "cell_type": "markdown",
   "metadata": {},
   "source": [
    "# 制約\n",
    "\n",
    "日本においては非常によくある制約条件下の元でよくする  \n",
    "目指すはSVM越えの0.69以上\n",
    "\n",
    "* 開発きとしてはスペック不足であるMacbook(12inch)でやる\n",
    " * windows xp + celeronを用意できなかったのが悔やまれる\n",
    "* データの方をもうちょっと整備したい\n",
    "* 「Deep Learningでやってもらわなきゃ困る！」"
   ]
  },
  {
   "cell_type": "markdown",
   "metadata": {},
   "source": [
    "# Why\n",
    "\n",
    "日本人はもっと無駄なことをしてもいいと思うんだ"
   ]
  },
  {
   "cell_type": "code",
   "execution_count": 6,
   "metadata": {
    "collapsed": true
   },
   "outputs": [],
   "source": [
    "%matplotlib inline "
   ]
  },
  {
   "cell_type": "code",
   "execution_count": 7,
   "metadata": {
    "collapsed": false
   },
   "outputs": [],
   "source": [
    "from keras.models import Sequential\n",
    "from keras.layers import Dense, Activation, Dropout, LSTM, Embedding\n",
    "from keras.optimizers import RMSprop\n",
    "from keras.utils import np_utils\n",
    "from keras.preprocessing import sequence\n",
    "\n",
    "import csv\n",
    "\n",
    "import matplotlib.pyplot as plt"
   ]
  },
  {
   "cell_type": "code",
   "execution_count": 21,
   "metadata": {
    "collapsed": true
   },
   "outputs": [],
   "source": [
    "input_length = 200\n",
    "nb_epoch = 20\n",
    "input_dim = 256"
   ]
  },
  {
   "cell_type": "code",
   "execution_count": 22,
   "metadata": {
    "collapsed": false
   },
   "outputs": [],
   "source": [
    "rin_chan = {'hoshizora':0, 'shibuya':1, 'toosaka':2, 'matsuoka':3}\n",
    "x = []\n",
    "y = []\n",
    "for line in csv.reader(open('../data/data.tsv'), delimiter='\\t'):\n",
    "    x.append(list(line[1]))\n",
    "    y.append(rin_chan[line[0]])\n",
    "y = np_utils.to_categorical(y)\n",
    "\n",
    "word_dict = {}\n",
    "for i, xi in enumerate(x):\n",
    "    for j, xj in enumerate(xi):\n",
    "        word_dict[xj]= word_dict.get(xj, len(word_dict))\n",
    "        x[i][j] = word_dict[xj]\n",
    "\n",
    "x = sequence.pad_sequences(x, input_length)\n",
    "\n",
    "x_train = x[0:6000]\n",
    "y_train = y[0:6000]\n",
    "\n",
    "x_test = x[6000:]\n",
    "y_test = y[6000:]"
   ]
  },
  {
   "cell_type": "code",
   "execution_count": 23,
   "metadata": {
    "collapsed": false
   },
   "outputs": [],
   "source": [
    "model = Sequential()\n",
    "model.add(Embedding(len(word_dict), input_dim,  input_length=input_length, dropout=0.2))\n",
    "model.add(LSTM(input_dim, dropout_W=0.2, dropout_U=0.2, consume_less='cpu'))\n",
    "model.add(Dense(y.shape[1], activation='softmax'))\n",
    "\n",
    "model.compile(loss='categorical_crossentropy', optimizer=RMSprop(), metrics=['accuracy'])"
   ]
  },
  {
   "cell_type": "code",
   "execution_count": 24,
   "metadata": {
    "collapsed": false,
    "scrolled": false
   },
   "outputs": [
    {
     "name": "stdout",
     "output_type": "stream",
     "text": [
      "Train on 5400 samples, validate on 600 samples\n",
      "Epoch 1/20\n",
      "5400/5400 [==============================] - 238s - loss: 1.3647 - acc: 0.3063 - val_loss: 1.3514 - val_acc: 0.2833\n",
      "Epoch 2/20\n",
      "5400/5400 [==============================] - 268s - loss: 1.2836 - acc: 0.4043 - val_loss: 1.1903 - val_acc: 0.4767\n",
      "Epoch 3/20\n",
      "5400/5400 [==============================] - 244s - loss: 1.1525 - acc: 0.4978 - val_loss: 1.2013 - val_acc: 0.5283\n",
      "Epoch 4/20\n",
      "5400/5400 [==============================] - 197s - loss: 1.0768 - acc: 0.5502 - val_loss: 1.0996 - val_acc: 0.5550\n",
      "Epoch 5/20\n",
      "5400/5400 [==============================] - 228s - loss: 0.9878 - acc: 0.5983 - val_loss: 0.9842 - val_acc: 0.5967\n",
      "Epoch 6/20\n",
      "5400/5400 [==============================] - 239s - loss: 0.9243 - acc: 0.6189 - val_loss: 1.0705 - val_acc: 0.5600\n",
      "Epoch 7/20\n",
      "5400/5400 [==============================] - 255s - loss: 0.8879 - acc: 0.6402 - val_loss: 0.9390 - val_acc: 0.6350\n",
      "Epoch 8/20\n",
      "5400/5400 [==============================] - 244s - loss: 0.8541 - acc: 0.6617 - val_loss: 0.9581 - val_acc: 0.6000\n",
      "Epoch 9/20\n",
      "5400/5400 [==============================] - 248s - loss: 0.8120 - acc: 0.6739 - val_loss: 0.9835 - val_acc: 0.6150\n",
      "Epoch 10/20\n",
      "5400/5400 [==============================] - 234s - loss: 0.7763 - acc: 0.6972 - val_loss: 0.9672 - val_acc: 0.6333\n",
      "Epoch 11/20\n",
      "5400/5400 [==============================] - 271s - loss: 0.7494 - acc: 0.7069 - val_loss: 0.8919 - val_acc: 0.6583\n",
      "Epoch 12/20\n",
      "5400/5400 [==============================] - 218s - loss: 0.7274 - acc: 0.7211 - val_loss: 0.9060 - val_acc: 0.6583\n",
      "Epoch 13/20\n",
      "5400/5400 [==============================] - 216s - loss: 0.7127 - acc: 0.7259 - val_loss: 0.8414 - val_acc: 0.6750\n",
      "Epoch 14/20\n",
      "5400/5400 [==============================] - 213s - loss: 0.6722 - acc: 0.7365 - val_loss: 0.8437 - val_acc: 0.6850\n",
      "Epoch 15/20\n",
      "5400/5400 [==============================] - 244s - loss: 0.6616 - acc: 0.7457 - val_loss: 0.8250 - val_acc: 0.6733\n",
      "Epoch 16/20\n",
      "5400/5400 [==============================] - 222s - loss: 0.6296 - acc: 0.7563 - val_loss: 0.8250 - val_acc: 0.6983\n",
      "Epoch 17/20\n",
      "5400/5400 [==============================] - 219s - loss: 0.6376 - acc: 0.7493 - val_loss: 0.8519 - val_acc: 0.6900\n",
      "Epoch 18/20\n",
      "5400/5400 [==============================] - 217s - loss: 0.6191 - acc: 0.7657 - val_loss: 0.8486 - val_acc: 0.6950\n",
      "Epoch 19/20\n",
      "5400/5400 [==============================] - 219s - loss: 0.6227 - acc: 0.7659 - val_loss: 0.8728 - val_acc: 0.6950\n",
      "Epoch 20/20\n",
      "5400/5400 [==============================] - 218s - loss: 0.5838 - acc: 0.7815 - val_loss: 0.8044 - val_acc: 0.6933\n"
     ]
    }
   ],
   "source": [
    "history = model.fit(x_train, y_train, batch_size=200, nb_epoch=nb_epoch, validation_split=0.1, verbose=1)"
   ]
  },
  {
   "cell_type": "code",
   "execution_count": 25,
   "metadata": {
    "collapsed": false
   },
   "outputs": [
    {
     "data": {
      "image/png": "[encoded data removed]",
      "text/plain": [
       "<matplotlib.figure.Figure at 0x17647ac88>"
      ]
     },
     "metadata": {},
     "output_type": "display_data"
    }
   ],
   "source": [
    "loss = history.history['loss']\n",
    "val_loss = history.history['val_loss']\n",
    "\n",
    "plt.plot(range(nb_epoch), loss, marker='.', label='loss')\n",
    "plt.plot(range(nb_epoch), val_loss, marker='.', label='val_loss')\n",
    "plt.legend(loc='best', fontsize=10)\n",
    "plt.grid()\n",
    "plt.xlabel('epoch')\n",
    "plt.show()"
   ]
  },
  {
   "cell_type": "code",
   "execution_count": 26,
   "metadata": {
    "collapsed": false
   },
   "outputs": [
    {
     "data": {
      "image/png": "[encoded data removed]",
      "text/plain": [
       "<matplotlib.figure.Figure at 0x16ef9e400>"
      ]
     },
     "metadata": {},
     "output_type": "display_data"
    }
   ],
   "source": [
    "acc = history.history['acc']\n",
    "val_acc = history.history['val_acc']\n",
    "\n",
    "plt.plot(range(nb_epoch), acc, marker='.', label='acc')\n",
    "plt.plot(range(nb_epoch), val_acc, marker='.', label='val_acc')\n",
    "plt.legend(loc='best', fontsize=10)\n",
    "plt.grid()\n",
    "plt.xlabel('epoch')\n",
    "plt.ylabel('acc')\n",
    "plt.show()"
   ]
  },
  {
   "cell_type": "code",
   "execution_count": 27,
   "metadata": {
    "collapsed": false
   },
   "outputs": [
    {
     "name": "stdout",
     "output_type": "stream",
     "text": [
      "1581/1581 [==============================] - 9s     \n"
     ]
    },
    {
     "data": {
      "text/plain": [
       "[0.88847176882377688, 0.66097406719697571]"
      ]
     },
     "execution_count": 27,
     "metadata": {},
     "output_type": "execute_result"
    }
   ],
   "source": [
    "model.evaluate(x_test, y_test)"
   ]
  },
  {
   "cell_type": "code",
   "execution_count": 30,
   "metadata": {
    "collapsed": false
   },
   "outputs": [
    {
     "data": {
      "text/plain": [
       "array([[ 0.00128611,  0.00213588,  0.00101355,  0.99556446],\n",
       "       [ 0.00458012,  0.00411254,  0.98996818,  0.00133914],\n",
       "       [ 0.14810757,  0.26922336,  0.04990125,  0.53276777],\n",
       "       ..., \n",
       "       [ 0.01748418,  0.95144844,  0.02092962,  0.01013778],\n",
       "       [ 0.54031181,  0.19255109,  0.24230763,  0.02482947],\n",
       "       [ 0.97320104,  0.00393087,  0.00167357,  0.02119455]], dtype=float32)"
      ]
     },
     "execution_count": 30,
     "metadata": {},
     "output_type": "execute_result"
    }
   ],
   "source": [
    "model.predict(x_test)"
   ]
  }
 ],
 "metadata": {
  "kernelspec": {
   "display_name": "Python 3",
   "language": "python",
   "name": "python3"
  },
  "language_info": {
   "codemirror_mode": {
    "name": "ipython",
    "version": 3
   },
   "file_extension": ".py",
   "mimetype": "text/x-python",
   "name": "python",
   "nbconvert_exporter": "python",
   "pygments_lexer": "ipython3",
   "version": "3.5.1"
  }
 },
 "nbformat": 4,
 "nbformat_minor": 0
}
